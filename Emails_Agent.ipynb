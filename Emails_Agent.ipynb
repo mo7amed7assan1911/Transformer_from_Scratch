{
 "cells": [
  {
   "cell_type": "code",
   "execution_count": 14,
   "metadata": {},
   "outputs": [],
   "source": [
    "from dotenv import load_dotenv\n",
    "from groq import Groq\n",
    "import os\n",
    "load_dotenv()\n",
    "import json_repair\n",
    "from langchain_core.messages import HumanMessage, AIMessage, SystemMessage\n",
    "\n",
    "client = Groq(api_key=os.getenv('GROQ_API_KEY'))"
   ]
  },
  {
   "cell_type": "code",
   "execution_count": 15,
   "metadata": {},
   "outputs": [],
   "source": [
    "from pydantic import BaseModel, EmailStr, field_validator, Field\n",
    "from typing import Literal, List\n",
    "\n",
    "class EmailContent(BaseModel):\n",
    "    sender: str\n",
    "    subject: str\n",
    "    body: str\n",
    "\n",
    "class Messages(BaseModel):\n",
    "    role: Literal['user', 'assistant', 'system']\n",
    "    content: str\n",
    "\n",
    "class EmailState(BaseModel):\n",
    "    email: EmailContent\n",
    "\n",
    "    is_spam: bool = Field(None, description=\"boolean value to descripe is the email is spam or not\")\n",
    "    spam_reason: str = Field(None, description=\"for the spam emails, this field will carry the answer of the WHY question.\")\n",
    "    email_category: Literal[\"thanking\", \"inquire\", \"spam\", \"not-specified\"] = None\n",
    "    messages: List[Messages] = []\n",
    "\n"
   ]
  },
  {
   "cell_type": "code",
   "execution_count": 16,
   "metadata": {},
   "outputs": [
    {
     "data": {
      "text/plain": [
       "EmailState(email=EmailContent(sender='Mohamed Hassan', subject='scheduling meeting to understand the RMS system', body='Hello mr mahrous I need to schedule a meeting with you to make some discussions about the RMS'), is_spam=None, spam_reason=None, email_category=None, messages=[])"
      ]
     },
     "execution_count": 16,
     "metadata": {},
     "output_type": "execute_result"
    }
   ],
   "source": [
    "email_content = EmailContent(\n",
    "    sender=\"Mohamed Hassan\",\n",
    "    subject=\"scheduling meeting to understand the RMS system\",\n",
    "    body=\"Hello mr mahrous I need to schedule a meeting with you to make some discussions about the RMS\"\n",
    ")\n",
    "\n",
    "EmailState(\n",
    "    email=email_content\n",
    ")"
   ]
  },
  {
   "cell_type": "code",
   "execution_count": 17,
   "metadata": {},
   "outputs": [],
   "source": [
    "def read_email(state: EmailState):\n",
    "    \"\"\"\n",
    "        Just reading the email and show it.\n",
    "    \"\"\"\n",
    "\n",
    "    email = state.email\n",
    "\n",
    "    print('='*50)\n",
    "    print(\"\\n\".join([\n",
    "        \"I have recived a new email:\\n\",\n",
    "        f\"From: {email.sender}\",\n",
    "        f\"Subject: {email.subject}\",\n",
    "        f\"Body: {email.body}\"\n",
    "    ]))\n",
    "    print(\"=\"*50)"
   ]
  },
  {
   "cell_type": "code",
   "execution_count": 113,
   "metadata": {},
   "outputs": [],
   "source": [
    "model_response = client.chat.completions.create(\n",
    "                        model=\"llama-3.3-70b-versatile\",\n",
    "                        messages=[Messages(role='user', content='hello')],\n",
    "                        temperature=1\n",
    "                        ).choices[0].message.content\n"
   ]
  },
  {
   "cell_type": "code",
   "execution_count": 114,
   "metadata": {},
   "outputs": [
    {
     "data": {
      "text/plain": [
       "'Hello. How can I assist you today?'"
      ]
     },
     "execution_count": 114,
     "metadata": {},
     "output_type": "execute_result"
    }
   ],
   "source": [
    "model_response"
   ]
  },
  {
   "cell_type": "code",
   "execution_count": null,
   "metadata": {},
   "outputs": [],
   "source": []
  },
  {
   "cell_type": "code",
   "execution_count": null,
   "metadata": {},
   "outputs": [],
   "source": []
  },
  {
   "cell_type": "code",
   "execution_count": 115,
   "metadata": {},
   "outputs": [],
   "source": [
    "def email_extractor(state: EmailState):\n",
    "    \n",
    "    print('Extracting email data')\n",
    "    print('='*50)\n",
    "    email = state.email\n",
    "    \n",
    "    prompt = f\"\"\"\n",
    "As foodics' HR, you will get emails .. analyze this email and determine if it is spam or legitimate.\n",
    "\n",
    "Email:\n",
    "From: {email.sender}\n",
    "Subject: {email.subject}\n",
    "Body: {email.body}\n",
    "\n",
    "\n",
    "First, determine if this email is spam. If it is spam make the email class to be 'Spam' then, explain why in the Analysis.\n",
    "If it is legitimate, categorize it ['Thanking','Inquire','Not-Specified'].\n",
    "response in this format only:\n",
    "\n",
    "{{\n",
    "    \"analysis\": ...,\n",
    "    \"class\": ...\n",
    "}}\n",
    "\"\"\"\n",
    "    \n",
    "    history = state.messages\n",
    "    \n",
    "    prompt_message = Messages(role='user', content=prompt)\n",
    "\n",
    "    context = history + [prompt_message]\n",
    "    \n",
    "    model_response = client.chat.completions.create(\n",
    "                        model=\"llama-3.3-70b-versatile\",\n",
    "                        messages=context,\n",
    "                        temperature=1\n",
    "                        ).choices[0].message.content\n",
    "                        \n",
    "    respone = json_repair.loads(model_response)\n",
    "\n",
    "    context += [Messages(role=\"assistant\", content=model_response)]\n",
    "\n",
    "    print(f\"Email extractor: {context}\")\n",
    "    \n",
    "    if respone['class'].lower() == 'spam':\n",
    "        is_spam = True\n",
    "        spam_reason = respone['analysis'].lower()\n",
    "\n",
    "    else:\n",
    "        is_spam = False\n",
    "        spam_reason = None\n",
    "    \n",
    "    return {\n",
    "        \"is_spam\": is_spam,\n",
    "        \"spam_reason\": spam_reason,\n",
    "        \"email_category\": respone['class'].lower(),\n",
    "        \"messages\": context\n",
    "    }\n",
    "    "
   ]
  },
  {
   "cell_type": "code",
   "execution_count": 117,
   "metadata": {},
   "outputs": [],
   "source": [
    "def make_draft(state: EmailState):\n",
    "    print('='*50)\n",
    "    print('In make_draft method [for non-spam emails]')\n",
    "    \n",
    "    email = state.email\n",
    "\n",
    "    prompt = \"\\n\".join([\n",
    "        \"As a Foodics HR agent, you recived email\",\n",
    "        \"you need to make a draft response to the email I will give you\",\n",
    "        \"to send it to the CEO to fast review it and could edit it befor sending\",\n",
    "        f\"Email sender: {email.sender}\",\n",
    "        f\"Email Subject: {email.subject}\",\n",
    "        f\"Email Body: {email.body}\",\n",
    "        f\"Email Category: {state.email_category}\",\n",
    "        \"make the response in this format:\",\n",
    "        \"Subject: Re: ...\",\n",
    "        \"From: ...\",\n",
    "        \"....\"\n",
    "    ])\n",
    "\n",
    "    context = state.messages\n",
    "\n",
    "    context.append(Messages(role=\"user\", content=prompt))\n",
    "\n",
    "    model_response = client.chat.completions.create(\n",
    "                        model=\"llama-3.3-70b-versatile\",\n",
    "                        messages=context,\n",
    "                        temperature=1\n",
    "                        ).choices[0].message.content\n",
    "\n",
    "    context.append(Messages(role=\"assistant\", content=model_response))\n",
    "    \n",
    "    print(f\"Email drafting: {context}\")\n",
    "\n",
    "    return {\n",
    "        \"messages\": context\n",
    "    }"
   ]
  },
  {
   "cell_type": "markdown",
   "metadata": {},
   "source": []
  },
  {
   "cell_type": "code",
   "execution_count": 118,
   "metadata": {},
   "outputs": [],
   "source": [
    "def reporting_spam(state: EmailState):\n",
    "    \n",
    "    print('='*50)\n",
    "    print('Reporting the spam email')\n",
    "    \n",
    "    email = state.email\n",
    "    print(\"\\n\".join([\n",
    "        \"I found this SPAM email\",\n",
    "        f\"Sender: {email.sender}\",\n",
    "        f\"Subject: {email.subject}\",\n",
    "        f\"Body: {email.body}\"\n",
    "    ]))"
   ]
  },
  {
   "cell_type": "code",
   "execution_count": 119,
   "metadata": {},
   "outputs": [],
   "source": [
    "def router(state: EmailState):\n",
    "    if state.is_spam:\n",
    "        return 'spam_route'\n",
    "    else:\n",
    "        return 'non_spam_route'"
   ]
  },
  {
   "cell_type": "code",
   "execution_count": 120,
   "metadata": {},
   "outputs": [
    {
     "data": {
      "image/png": "[encoded data removed]",
      "text/plain": [
       "<langgraph.graph.state.CompiledStateGraph object at 0x10b236bf0>"
      ]
     },
     "execution_count": 120,
     "metadata": {},
     "output_type": "execute_result"
    }
   ],
   "source": [
    "from langgraph.graph import StateGraph, START, END\n",
    "\n",
    "\n",
    "graph = StateGraph(EmailState)\n",
    "\n",
    "graph.add_node(\"Reader\", read_email)\n",
    "graph.add_node(\"Email Extract Expert\", email_extractor)\n",
    "graph.add_node(\"Making Draft\", make_draft)\n",
    "graph.add_node(\"Spam Reporter\", reporting_spam)\n",
    "\n",
    "\n",
    "graph.add_edge(START, \"Reader\")\n",
    "graph.add_edge(\"Reader\", \"Email Extract Expert\")\n",
    "graph.add_conditional_edges(\n",
    "    \"Email Extract Expert\",\n",
    "    router, \n",
    "    {\n",
    "        \"non_spam_route\": \"Making Draft\",\n",
    "        \"spam_route\": \"Spam Reporter\"\n",
    "    }\n",
    "\n",
    ")\n",
    "graph.add_edge(\"Spam Reporter\", END)\n",
    "graph.add_edge(\"Making Draft\", END)\n",
    "\n",
    "# graph.add_conditional_edge()\n",
    "graph = graph.compile()\n",
    "graph"
   ]
  },
  {
   "cell_type": "code",
   "execution_count": 121,
   "metadata": {},
   "outputs": [],
   "source": [
    "email_content = EmailContent(\n",
    "    sender=\"Koshari Alamin Resturant\",\n",
    "    subject=\"Asking for price offer\",\n",
    "    body=\"Hello foodics, I need to ask for your process of joining you as a client.\"\n",
    ")\n",
    "\n",
    "\n",
    "email_state = EmailState(\n",
    "    email=email_content\n",
    ")"
   ]
  },
  {
   "cell_type": "code",
   "execution_count": 122,
   "metadata": {},
   "outputs": [
    {
     "name": "stdout",
     "output_type": "stream",
     "text": [
      "==================================================\n",
      "I have recived a new email:\n",
      "\n",
      "From: Koshari Alamin Resturant\n",
      "Subject: Asking for price offer\n",
      "Body: Hello foodics, I need to ask for your process of joining you as a client.\n",
      "==================================================\n",
      "Extracting email data\n",
      "==================================================\n",
      "Email extractor: [Messages(role='user', content='\\nAs foodics\\' HR, you will get emails .. analyze this email and determine if it is spam or legitimate.\\n\\nEmail:\\nFrom: Koshari Alamin Resturant\\nSubject: Asking for price offer\\nBody: Hello foodics, I need to ask for your process of joining you as a client.\\n\\n\\nFirst, determine if this email is spam. If it is spam make the email class to be \\'Spam\\' then, explain why in the Analysis.\\nIf it is legitimate, categorize it [\\'Thanking\\',\\'Inquire\\',\\'Not-Specified\\'].\\nresponse in this format only:\\n\\n{\\n    \"analysis\": ...,\\n    \"class\": ...\\n}\\n'), Messages(role='assistant', content='{\\n    \"analysis\": \"The email is likely legitimate because it is addressed to \\'foodics\\' specifically, and the content of the email is a clear and reasonable inquiry about the process of joining as a client. The language used is simple and straightforward, without any suspicious links, attachments, or requests for personal information that are common characteristics of spam emails.\",\\n    \"class\": \"Inquire\"\\n}')]\n",
      "==================================================\n",
      "In make_draft method [for non-spam emails]\n",
      "Email drafting: [Messages(role='user', content='\\nAs foodics\\' HR, you will get emails .. analyze this email and determine if it is spam or legitimate.\\n\\nEmail:\\nFrom: Koshari Alamin Resturant\\nSubject: Asking for price offer\\nBody: Hello foodics, I need to ask for your process of joining you as a client.\\n\\n\\nFirst, determine if this email is spam. If it is spam make the email class to be \\'Spam\\' then, explain why in the Analysis.\\nIf it is legitimate, categorize it [\\'Thanking\\',\\'Inquire\\',\\'Not-Specified\\'].\\nresponse in this format only:\\n\\n{\\n    \"analysis\": ...,\\n    \"class\": ...\\n}\\n'), Messages(role='assistant', content='{\\n    \"analysis\": \"The email is likely legitimate because it is addressed to \\'foodics\\' specifically, and the content of the email is a clear and reasonable inquiry about the process of joining as a client. The language used is simple and straightforward, without any suspicious links, attachments, or requests for personal information that are common characteristics of spam emails.\",\\n    \"class\": \"Inquire\"\\n}'), Messages(role='user', content='As a Foodics HR agent, you recived email\\nyou need to make a draft response to the email I will give you\\nto send it to the CEO to fast review it and could edit it befor sending\\nEmail sender: Koshari Alamin Resturant\\nEmail Subject: Asking for price offer\\nEmail Body: Hello foodics, I need to ask for your process of joining you as a client.\\nEmail Category: inquire\\nmake the response in this format:\\nSubject: Re: ...\\nFrom: ...\\n....'), Messages(role='assistant', content=\"Subject: Re: Asking for price offer\\nFrom: Foodics HR Team\\nDear Koshari Alamin Resturant,\\n\\nThank you for considering Foodics as your potential partner. We appreciate your interest in joining us as a client. Our team would be happy to guide you through the onboarding process and provide you with a customized price offer tailored to your restaurant's needs.\\n\\nTo get started, could you please provide us with some more information about your restaurant, such as the number of locations, average monthly sales, and any specific requirements you have? This will enable us to give you a more accurate quote and recommend the best solutions for your business.\\n\\nWe look forward to the opportunity to work with you and explore how Foodics can help take your restaurant to the next level.\\n\\nBest regards,\\nFoodics HR Team\")]\n"
     ]
    }
   ],
   "source": [
    "result = graph.invoke(email_state)"
   ]
  },
  {
   "cell_type": "code",
   "execution_count": 130,
   "metadata": {},
   "outputs": [
    {
     "name": "stdout",
     "output_type": "stream",
     "text": [
      "====================================================================================================\n",
      "user\n",
      "--------------------------------------------------\n",
      "\n",
      "As foodics' HR, you will get emails .. analyze this email and determine if it is spam or legitimate.\n",
      "\n",
      "Email:\n",
      "From: Koshari Alamin Resturant\n",
      "Subject: Asking for price offer\n",
      "Body: Hello foodics, I need to ask for your process of joining you as a client.\n",
      "\n",
      "\n",
      "First, determine if this email is spam. If it is spam make the email class to be 'Spam' then, explain why in the Analysis.\n",
      "If it is legitimate, categorize it ['Thanking','Inquire','Not-Specified'].\n",
      "response in this format only:\n",
      "\n",
      "{\n",
      "    \"analysis\": ...,\n",
      "    \"class\": ...\n",
      "}\n",
      "\n",
      "====================================================================================================\n",
      "assistant\n",
      "--------------------------------------------------\n",
      "{\n",
      "    \"analysis\": \"The email is likely legitimate because it is addressed to 'foodics' specifically, and the content of the email is a clear and reasonable inquiry about the process of joining as a client. The language used is simple and straightforward, without any suspicious links, attachments, or requests for personal information that are common characteristics of spam emails.\",\n",
      "    \"class\": \"Inquire\"\n",
      "}\n",
      "====================================================================================================\n",
      "user\n",
      "--------------------------------------------------\n",
      "As a Foodics HR agent, you recived email\n",
      "you need to make a draft response to the email I will give you\n",
      "to send it to the CEO to fast review it and could edit it befor sending\n",
      "Email sender: Koshari Alamin Resturant\n",
      "Email Subject: Asking for price offer\n",
      "Email Body: Hello foodics, I need to ask for your process of joining you as a client.\n",
      "Email Category: inquire\n",
      "make the response in this format:\n",
      "Subject: Re: ...\n",
      "From: ...\n",
      "....\n",
      "====================================================================================================\n",
      "assistant\n",
      "--------------------------------------------------\n",
      "Subject: Re: Asking for price offer\n",
      "From: Foodics HR Team\n",
      "Dear Koshari Alamin Resturant,\n",
      "\n",
      "Thank you for considering Foodics as your potential partner. We appreciate your interest in joining us as a client. Our team would be happy to guide you through the onboarding process and provide you with a customized price offer tailored to your restaurant's needs.\n",
      "\n",
      "To get started, could you please provide us with some more information about your restaurant, such as the number of locations, average monthly sales, and any specific requirements you have? This will enable us to give you a more accurate quote and recommend the best solutions for your business.\n",
      "\n",
      "We look forward to the opportunity to work with you and explore how Foodics can help take your restaurant to the next level.\n",
      "\n",
      "Best regards,\n",
      "Foodics HR Team\n"
     ]
    }
   ],
   "source": [
    "for m in result['messages']:\n",
    "    print('='*100)\n",
    "    print(m.role)\n",
    "    print('-'*50)\n",
    "    print(m.content)\n",
    "    "
   ]
  },
  {
   "cell_type": "code",
   "execution_count": null,
   "metadata": {},
   "outputs": [],
   "source": []
  },
  {
   "cell_type": "code",
   "execution_count": null,
   "metadata": {},
   "outputs": [],
   "source": []
  },
  {
   "cell_type": "code",
   "execution_count": null,
   "metadata": {},
   "outputs": [],
   "source": []
  },
  {
   "cell_type": "code",
   "execution_count": null,
   "metadata": {},
   "outputs": [],
   "source": []
  },
  {
   "cell_type": "code",
   "execution_count": 99,
   "metadata": {},
   "outputs": [
    {
     "data": {
      "text/plain": [
       "{'role': 'user',\n",
       " 'content': 'As a Foodics HR agent, you recived email\\nyou need to make a draft response to the email I will give you\\nto send it to the CEO to fast review it and could edit it befor sending\\nEmail sender: Koshari Alamin Resturant\\nEmail Subject: Asking for price offer\\nEmail Body: Hello foodics, I need to ask for your process of joining you as a client.\\nEmail Category: inquire\\nmake the response in this format:\\nSubject: Re: ...\\nFrom: ...\\n....'}"
      ]
     },
     "execution_count": 99,
     "metadata": {},
     "output_type": "execute_result"
    }
   ],
   "source": [
    "result['messages'][0][1]"
   ]
  },
  {
   "cell_type": "code",
   "execution_count": null,
   "metadata": {},
   "outputs": [],
   "source": []
  },
  {
   "cell_type": "code",
   "execution_count": null,
   "metadata": {},
   "outputs": [],
   "source": []
  },
  {
   "cell_type": "code",
   "execution_count": null,
   "metadata": {},
   "outputs": [],
   "source": []
  },
  {
   "cell_type": "code",
   "execution_count": null,
   "metadata": {},
   "outputs": [],
   "source": []
  },
  {
   "cell_type": "code",
   "execution_count": null,
   "metadata": {},
   "outputs": [],
   "source": []
  },
  {
   "cell_type": "code",
   "execution_count": null,
   "metadata": {},
   "outputs": [],
   "source": []
  },
  {
   "cell_type": "code",
   "execution_count": null,
   "metadata": {},
   "outputs": [],
   "source": []
  },
  {
   "cell_type": "code",
   "execution_count": null,
   "metadata": {},
   "outputs": [],
   "source": []
  },
  {
   "cell_type": "code",
   "execution_count": null,
   "metadata": {},
   "outputs": [],
   "source": []
  },
  {
   "cell_type": "code",
   "execution_count": null,
   "metadata": {},
   "outputs": [],
   "source": []
  },
  {
   "cell_type": "code",
   "execution_count": null,
   "metadata": {},
   "outputs": [],
   "source": []
  },
  {
   "cell_type": "code",
   "execution_count": null,
   "metadata": {},
   "outputs": [],
   "source": []
  },
  {
   "cell_type": "code",
   "execution_count": null,
   "metadata": {},
   "outputs": [],
   "source": []
  }
 ],
 "metadata": {
  "kernelspec": {
   "display_name": "llms",
   "language": "python",
   "name": "python3"
  },
  "language_info": {
   "codemirror_mode": {
    "name": "ipython",
    "version": 3
   },
   "file_extension": ".py",
   "mimetype": "text/x-python",
   "name": "python",
   "nbconvert_exporter": "python",
   "pygments_lexer": "ipython3",
   "version": "3.10.16"
  }
 },
 "nbformat": 4,
 "nbformat_minor": 2
}
