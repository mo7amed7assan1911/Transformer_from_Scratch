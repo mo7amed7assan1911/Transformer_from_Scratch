{
 "cells": [
  {
   "cell_type": "code",
   "execution_count": 119,
   "metadata": {},
   "outputs": [],
   "source": [
    "from langchain_groq import ChatGroq\n",
    "from dotenv import load_dotenv\n",
    "import os\n",
    "load_dotenv()\n",
    "import json_repair\n",
    "\n",
    "model = ChatGroq(api_key=os.getenv('GROQ_API_KEY'),\n",
    "        model=\"llama-3.3-70b-versatile\",\n",
    "        temperature=1)\n"
   ]
  },
  {
   "cell_type": "code",
   "execution_count": 2,
   "metadata": {},
   "outputs": [],
   "source": [
    "def mulitply(a: int, b: int) -> int:\n",
    "    \"\"\"\n",
    "    function that help Multiply a and b\n",
    "\n",
    "    Args:\n",
    "        a: first int\n",
    "        b: second int\n",
    "    \"\"\"\n",
    "\n",
    "    return a * b \n",
    "\n",
    "def add(a: int, b: int) -> int:\n",
    "    \"\"\"\n",
    "    funciton that help in add a to b\n",
    "\n",
    "    Args:\n",
    "        a: first int\n",
    "        b: second int\n",
    "    \"\"\"\n",
    "\n",
    "    return a + b \n",
    "\n",
    "\n",
    "def division(a: int, b: int) -> int:\n",
    "    \"\"\"\n",
    "    function that help divide a by b\n",
    "\n",
    "    Args:\n",
    "        a: first int\n",
    "        b: second int\n",
    "    \"\"\"\n",
    "\n",
    "    return a / b "
   ]
  },
  {
   "cell_type": "code",
   "execution_count": 3,
   "metadata": {},
   "outputs": [],
   "source": [
    "tools = [mulitply, add, division]\n",
    "model_with_tools = model.bind_tools(tools)"
   ]
  },
  {
   "cell_type": "code",
   "execution_count": 4,
   "metadata": {},
   "outputs": [],
   "source": [
    "from langgraph.graph import MessagesState\n",
    "\n",
    "class State(MessagesState):\n",
    "    pass\n",
    "\n",
    "\n",
    "def tool_calling_llm(state: MessagesState):\n",
    "    return {\"messages\": [model_with_tools.invoke(state['messages'])]}"
   ]
  },
  {
   "cell_type": "code",
   "execution_count": 5,
   "metadata": {},
   "outputs": [],
   "source": [
    "from langgraph.graph import StateGraph, START, END\n",
    "from langgraph.prebuilt import tools_condition, ToolNode\n",
    "\n",
    "graph = StateGraph(State)\n",
    "graph.add_node(\"llm_calling\", tool_calling_llm)\n",
    "graph.add_node(\"tools\", ToolNode(tools))\n",
    "\n",
    "graph.add_edge(START, \"llm_calling\")\n",
    "graph.add_conditional_edges(\n",
    "    \"llm_calling\",\n",
    "    tools_condition\n",
    ")\n",
    "\n",
    "graph.add_edge(\"tools\", \"llm_calling\")\n",
    "combiled_graph = graph.compile()"
   ]
  },
  {
   "cell_type": "code",
   "execution_count": 7,
   "metadata": {},
   "outputs": [],
   "source": [
    "\n",
    "\n",
    "class Agent:\n",
    "    def __init__(self, system_message=\"\", model_name=\"llama-3.3-70b-versatile\"):\n",
    "        self.system_message = system_message\n",
    "        self.messages = []\n",
    "        if self.system_message:\n",
    "            self.messages.append({\"role\": \"system\", \"content\": self.system_message})\n",
    "\n",
    "        self.model = ChatGroq(\n",
    "            api_key=os.getenv('GROQ_API_KEY'),\n",
    "            model=model_name,\n",
    "            temperature=1\n",
    "        )\n",
    "    \n",
    "    def __call__(self, message):\n",
    "        \"\"\"\n",
    "        Function that take message add it in histroy & pass it to model then save the result in memory also\n",
    "        \"\"\"\n",
    "        self.messages.append({\"role\": \"user\", \"content\": message})\n",
    "        result = self.execute()\n",
    "        self.messages.append({\"role\": \"assistant\", \"content\": result})\n",
    "\n",
    "        return result\n",
    "    \n",
    "    def execute(self):\n",
    "        result = self.model.invoke(self.messages)\n",
    "        return result.content"
   ]
  },
  {
   "cell_type": "code",
   "execution_count": 8,
   "metadata": {},
   "outputs": [],
   "source": [
    "agent = Agent(system_message=\"\"\"\n",
    "\n",
    "You run in a loop of Thought, Action, PAUSE, Observation.\n",
    "At the end of the loop you output an Answer\n",
    "Use Thought to describe your thoughts about the question you have been a\n",
    "Use Action to run one of the actions available to you - then return PAUSE\n",
    "Observation will be the result of running those actions.\n",
    "\n",
    "Your available actions are:\n",
    "\n",
    "calculate:\n",
    "e.g. calculate: 4 * 7 / 3\n",
    "Runs a calculation and returns the number – uses Python so be sure to us\n",
    "\n",
    "average_dog_weight:\n",
    "e.g. average_dog_weight: Collie\n",
    "returns average weight of a dog when given the breed\n",
    "\n",
    "Example session:\n",
    "\n",
    "Question: How much does a Bulldog weigh?\n",
    "Thought: I should look the dogs weight using average_dog_weight\n",
    "Action: average_dog_weight: Bulldog\n",
    "PAUSE\n",
    "\n",
    "You will be called again with this:\n",
    "\n",
    "Observation: A Bulldog weights 51 lbs\n",
    "\n",
    "You then output:\n",
    "\n",
    "Answer: A bulldog weights 51 lbs\n",
    "\"\"\".strip())\n"
   ]
  },
  {
   "cell_type": "code",
   "execution_count": 9,
   "metadata": {},
   "outputs": [],
   "source": [
    "def calculate(what):\n",
    "    return eval(what) + 100\n",
    "\n",
    "def average_dog_weight(name):\n",
    "    if name in \"Scottish Terrier\":\n",
    "        return(\"Scottish Terriers average 20 lbs\")\n",
    "    elif name in \"Border Collie\":\n",
    "        return(\"a Border Collies average weight is 37 lbs\")\n",
    "    elif name in \"Toy Poodle\":\n",
    "        return(\"a toy poodles average weight is 7 lbs\")\n",
    "    else:\n",
    "        return(\"An average dog weights 50 lbs\")\n",
    "\n",
    "known_actions = {\n",
    "    \"calculate\": calculate,\n",
    "    \"average_dog_weight\": average_dog_weight\n",
    "}"
   ]
  },
  {
   "cell_type": "code",
   "execution_count": 10,
   "metadata": {},
   "outputs": [
    {
     "name": "stdout",
     "output_type": "stream",
     "text": [
      "Thought: To find the combined weight of the two dogs, I need to find the average weight of a Border Collie and a Scottish Terrier. I can use the average_dog_weight action to find the weight of each breed and then add them together.\n",
      "\n",
      "Action: average_dog_weight: Border Collie\n",
      "PAUSE\n"
     ]
    }
   ],
   "source": [
    "print(agent('I have 2 dogs, a border collie and a scottish terrier. what is the their combined weight'))\n"
   ]
  },
  {
   "cell_type": "code",
   "execution_count": 305,
   "metadata": {},
   "outputs": [
    {
     "data": {
      "text/plain": [
       "'Thought: Now that I have the correct weights for both breeds, I can calculate the combined weight of the two dogs by adding their individual weights.\\n\\nAction: calculate: 37 + 20\\nPAUSE'"
      ]
     },
     "execution_count": 305,
     "metadata": {},
     "output_type": "execute_result"
    }
   ],
   "source": [
    "next_prompt = f\"Observation: {average_dog_weight('Scottish Terrier')}\"\n",
    "\n",
    "agent(next_prompt)"
   ]
  },
  {
   "cell_type": "code",
   "execution_count": 298,
   "metadata": {},
   "outputs": [
    {
     "data": {
      "text/plain": [
       "[{'role': 'system',\n",
       "  'content': 'You run in a loop of Thought, Action, PAUSE, Observation.\\nAt the end of the loop you output an Answer\\nUse Thought to describe your thoughts about the question you have been a\\nUse Action to run one of the actions available to you - then return PAUSE\\nObservation will be the result of running those actions.\\n\\nYour available actions are:\\n\\ncalculate:\\ne.g. calculate: 4 * 7 / 3\\nRuns a calculation and returns the number – uses Python so be sure to us\\n\\naverage_dog_weight:\\ne.g. average_dog_weight: Collie\\nreturns average weight of a dog when given the breed\\n\\nExample session:\\n\\nQuestion: How much does a Bulldog weigh?\\nThought: I should look the dogs weight using average_dog_weight\\nAction: average_dog_weight: Bulldog\\nPAUSE\\n\\nYou will be called again with this:\\n\\nObservation: A Bulldog weights 51 lbs\\n\\nYou then output:\\n\\nAnswer: A bulldog weights 51 lbs'},\n",
       " {'role': 'user', 'content': 'how much does a toy poodle weight?'},\n",
       " {'role': 'assistant',\n",
       "  'content': 'Thought: I should look up the weight of a Toy Poodle using the average_dog_weight action to find the average weight of this breed.\\n\\nAction: average_dog_weight: Toy Poodle\\nPAUSE'},\n",
       " {'role': 'user',\n",
       "  'content': 'Observation: a toy poodles average weight is 7 lbs'},\n",
       " {'role': 'assistant', 'content': 'Answer: A Toy Poodle weighs 7 lbs.'}]"
      ]
     },
     "execution_count": 298,
     "metadata": {},
     "output_type": "execute_result"
    }
   ],
   "source": [
    "agent.messages"
   ]
  },
  {
   "cell_type": "code",
   "execution_count": 12,
   "metadata": {},
   "outputs": [
    {
     "data": {
      "text/plain": [
       "State(graph_state='Hello')"
      ]
     },
     "execution_count": 12,
     "metadata": {},
     "output_type": "execute_result"
    }
   ],
   "source": [
    "from pydantic import BaseModel\n",
    "\n",
    "class State(BaseModel):\n",
    "    graph_state: str\n",
    "\n",
    "\n",
    "\n",
    "State(graph_state=\"Hello\")"
   ]
  },
  {
   "cell_type": "code",
   "execution_count": 31,
   "metadata": {},
   "outputs": [],
   "source": [
    "def node_1(state):\n",
    "    print(\"---Node 1---\")\n",
    "    return {\"graph_state\": state.graph_state +\" I am\"}\n",
    "\n",
    "def node_2(state):\n",
    "    print(\"---Node 2---\")\n",
    "    return {\"graph_state\": state.graph_state +\" happy!\"}\n",
    "\n",
    "def node_3(state):\n",
    "    print(\"---Node 3---\")\n",
    "    return {\"graph_state\": state.graph_state +\" sad!\"} "
   ]
  },
  {
   "cell_type": "code",
   "execution_count": 32,
   "metadata": {},
   "outputs": [],
   "source": [
    "import random\n",
    "\n",
    "def decide_mood(state: State):\n",
    "    user_input = state.graph_state\n",
    "\n",
    "    if random.random() < 0.5:\n",
    "        return \"node_2\"\n",
    "    \n",
    "    return \"node_3\""
   ]
  },
  {
   "cell_type": "code",
   "execution_count": 37,
   "metadata": {},
   "outputs": [
    {
     "data": {
      "image/png": "[encoded data removed]",
      "text/plain": [
       "<langgraph.graph.state.CompiledStateGraph object at 0x1178562c0>"
      ]
     },
     "execution_count": 37,
     "metadata": {},
     "output_type": "execute_result"
    }
   ],
   "source": [
    "from IPython.display import Image, display\n",
    "from langgraph.graph import StateGraph, START, END\n",
    "\n",
    "\n",
    "graph = StateGraph(State)\n",
    "graph.add_node(\"node_1\", node_1)\n",
    "graph.add_node(\"node_2\", node_2)\n",
    "graph.add_node(\"node_3\", node_3)\n",
    "\n",
    "graph.add_edge(START, \"node_1\")\n",
    "graph.add_conditional_edges(\n",
    "    \"node_1\",\n",
    "    decide_mood\n",
    ")\n",
    "graph.add_edge(\"node_2\", END)\n",
    "graph.add_edge('node_3', END)\n",
    "\n",
    "graph = graph.compile()\n",
    "graph"
   ]
  },
  {
   "cell_type": "code",
   "execution_count": 36,
   "metadata": {},
   "outputs": [
    {
     "name": "stdout",
     "output_type": "stream",
     "text": [
      "---Node 1---\n",
      "---Node 2---\n"
     ]
    },
    {
     "data": {
      "text/plain": [
       "{'graph_state': 'HI I am happy!'}"
      ]
     },
     "execution_count": 36,
     "metadata": {},
     "output_type": "execute_result"
    }
   ],
   "source": [
    "graph.invoke({\"graph_state\": \"HI\"})"
   ]
  },
  {
   "cell_type": "code",
   "execution_count": 88,
   "metadata": {},
   "outputs": [],
   "source": [
    "class EmailContent(BaseModel):\n",
    "    subject: str\n",
    "    sender: str\n",
    "    body: str\n",
    "\n",
    "class MessageContent(BaseModel):\n",
    "    role: str\n",
    "    content: str\n"
   ]
  },
  {
   "cell_type": "code",
   "execution_count": 133,
   "metadata": {},
   "outputs": [],
   "source": [
    "from typing import Optional, List\n",
    "\n",
    "class EmailContent(BaseModel):\n",
    "    subject: str\n",
    "    sender: str\n",
    "    body: str\n",
    "\n",
    "class MessageContent(BaseModel):\n",
    "    role: str\n",
    "    content: str\n",
    "\n",
    "\n",
    "class EmailState(BaseModel):\n",
    "    email: EmailContent\n",
    "    email_category: Optional[str] = None\n",
    "    spam_reason: Optional[str] = None\n",
    "\n",
    "    is_spam: bool\n",
    "    email_draft: str\n",
    "    messages: List[MessageContent] = []"
   ]
  },
  {
   "cell_type": "code",
   "execution_count": 134,
   "metadata": {},
   "outputs": [
    {
     "data": {
      "text/plain": [
       "EmailState(email=EmailContent(subject='AI engineer for open position', sender='Mohamed Hassan', body='Hello, I am mohamed and need to apply for that open job position'), email_category='CV', spam_reason='No spam', is_spam=False, email_draft='Hello', messages=[])"
      ]
     },
     "execution_count": 134,
     "metadata": {},
     "output_type": "execute_result"
    }
   ],
   "source": [
    "email_content = EmailContent(\n",
    "    subject=\"AI engineer for open position\",\n",
    "    sender=\"Mohamed Hassan\",\n",
    "    body=\"Hello, I am mohamed and need to apply for that open job position\"\n",
    ")\n",
    "\n",
    "EmailState(\n",
    "    email=email_content,\n",
    "    email_category=\"CV\",\n",
    "    spam_reason=\"No spam\",\n",
    "    is_spam=False,\n",
    "    email_draft=\"Hello\"\n",
    ")"
   ]
  },
  {
   "cell_type": "code",
   "execution_count": 135,
   "metadata": {},
   "outputs": [
    {
     "name": "stdout",
     "output_type": "stream",
     "text": [
      "Foodics' HR is processing an email from Mohamed Hassan with subject: AI engineer for open position\n"
     ]
    },
    {
     "data": {
      "text/plain": [
       "{}"
      ]
     },
     "execution_count": 135,
     "metadata": {},
     "output_type": "execute_result"
    }
   ],
   "source": [
    "def read_email(state: EmailState):\n",
    "    email = state.email\n",
    "\n",
    "    print(f\"Foodics' HR is processing an email from {email.sender} with subject: {email.subject}\")\n",
    "\n",
    "    return {}\n",
    "\n",
    "read_email(EmailState(\n",
    "    email=email_content,\n",
    "    email_category=\"CV\",\n",
    "    spam_reason=\"No spam\",\n",
    "    is_spam=False,\n",
    "    email_draft=\"Hello\"\n",
    "))"
   ]
  },
  {
   "cell_type": "code",
   "execution_count": 178,
   "metadata": {},
   "outputs": [],
   "source": [
    "def classify_email(state: EmailState):\n",
    "    email = state.email\n",
    "\n",
    "    prompt = f\"\"\"\n",
    "As foodics' HR, you will get emails .. analyze this email and determine if it is spam or legitimate.\n",
    "\n",
    "\n",
    "Email:\n",
    "From: {email.sender}\n",
    "Subject: {email.subject}\n",
    "Body: {email.body}\n",
    "\n",
    "\n",
    "First, determine if this email is spam. If it is spam, explain why.\n",
    "If it is legitimate, categorize it (inquiry, complaint, thank you).\n",
    "response in this format only:\n",
    "\n",
    "{{\n",
    "    \"Analysis\": ...,\n",
    "    \"class\": ...\n",
    "}}\n",
    "\"\"\"\n",
    "    \n",
    "\n",
    "    response = model.invoke(prompt).content.lower()\n",
    "\n",
    "    response_json = json_repair.loads(response)\n",
    "    category = response_json['class']\n",
    "\n",
    "    print(f\"Email category: {category}\")\n",
    "    \n",
    "    if category == \"spam\":\n",
    "        is_spam = True\n",
    "        spam_reason = response_json['analysis']\n",
    "    else:\n",
    "        is_spam = False\n",
    "        spam_reason = \"Not Spam\"\n",
    "\n",
    "    new_messages = state.messages + [\n",
    "        {\"role\": \"user\", \"content\": prompt},\n",
    "        {\"role\": \"assistant\", \"content\": response}\n",
    "    ]\n",
    "\n",
    "    \n",
    "    state.is_spam = is_spam,\n",
    "    state.spam_reason = spam_reason,\n",
    "    state.email_category = category,\n",
    "    state.messages = new_messages"
   ]
  },
  {
   "cell_type": "code",
   "execution_count": 179,
   "metadata": {},
   "outputs": [],
   "source": [
    "email_content = EmailContent(\n",
    "    subject=\"RE: AI job position\",\n",
    "    sender=\"Mohamed Hassan\",\n",
    "    body=\"just need money\"\n",
    ")\n",
    "\n",
    "email = EmailState(\n",
    "    email=email_content,\n",
    "    email_category=\"CV\",\n",
    "    spam_reason=\"No spam\",\n",
    "    is_spam=False,\n",
    "    email_draft=\"Hello\"\n",
    ")"
   ]
  },
  {
   "cell_type": "code",
   "execution_count": 180,
   "metadata": {},
   "outputs": [
    {
     "name": "stdout",
     "output_type": "stream",
     "text": [
      "Email category: spam\n",
      "None\n"
     ]
    }
   ],
   "source": [
    "import json\n",
    "response = classify_email(email)\n",
    "print(response)"
   ]
  },
  {
   "cell_type": "code",
   "execution_count": 193,
   "metadata": {},
   "outputs": [],
   "source": [
    "def handle_spam(state: EmailState):\n",
    "    print(f\"Our Foodics' HR marked the email as spam. Reason:\\n{state.spam_reason}\")\n",
    "    print(\"The email has been moved to the spam folder.\")\n",
    "\n",
    "    return {}\n",
    "\n",
    "def draft_response(state: EmailState):\n",
    "    email = state.email\n",
    "    category = state.email_category\n",
    "\n",
    "\n",
    "    prompt = f\"\"\"\n",
    "As foodics' hr, draft a polite preliminary response to this email.\n",
    "\n",
    "Email:\n",
    "FROM: {email.sender}\n",
    "Subject: {email.subject}\n",
    "Body: {email.body}\n",
    "\n",
    "This email has been categorized as: {category}\n",
    "\n",
    "Draft a brief, professional response that 'Mr. Shikabala' can review and personalize before sending.\n",
    "\"\"\"\n",
    "    \n",
    "\n",
    "    respone = model.invoke(prompt).content\n",
    "\n",
    "    new_messages = state.messages + [\n",
    "        {\"role\": \"user\", \"content\": prompt},\n",
    "        {\"role\": \"assistant\", \"content\": respone}\n",
    "    ]\n",
    "\n",
    "    state.email_draft = respone\n",
    "    state.messages = new_messages\n",
    "\n",
    "\n",
    "\n",
    "def notify(state: EmailState):\n",
    "    print(\"IN notify\")\n",
    "    email = state.email\n",
    "\n",
    "    print(\"\\n\" + \"=\"*50)\n",
    "    print(f\"Sir, you've received an email from {email.sender}.\")\n",
    "    print(f\"Subject: {email.subject}\")\n",
    "    print(f\"Category: {state.email_category}\")\n",
    "    print(\"\\nI've prepared a draft response for your review:\")\n",
    "    print(\"-\"*50)\n",
    "    print(state.email_draft)\n",
    "    print(\"=\"*50 + \"\\n\")\n",
    "    \n",
    "    # We're done processing this email"
   ]
  },
  {
   "cell_type": "code",
   "execution_count": 204,
   "metadata": {},
   "outputs": [],
   "source": [
    "def route_email(state: EmailState) -> str:\n",
    "    print(state)\n",
    "    if state.is_spam:\n",
    "        print('email is spam')\n",
    "        return \"spam\"\n",
    "    else:\n",
    "        print('email is not spam')\n",
    "        return \"legitimate\""
   ]
  },
  {
   "cell_type": "code",
   "execution_count": 205,
   "metadata": {},
   "outputs": [
    {
     "data": {
      "image/png": "[encoded data removed]",
      "text/plain": [
       "<langgraph.graph.state.CompiledStateGraph object at 0x120416a10>"
      ]
     },
     "execution_count": 205,
     "metadata": {},
     "output_type": "execute_result"
    }
   ],
   "source": [
    "graph = StateGraph(EmailState)\n",
    "\n",
    "graph.add_node(\"read_email\", read_email)\n",
    "graph.add_node(\"classify_email\", classify_email)\n",
    "graph.add_node(\"handle_spam\", handle_spam)\n",
    "graph.add_node(\"draft_response\", draft_response)\n",
    "graph.add_node(\"notify\", notify)\n",
    "\n",
    "graph.add_edge(START, \"read_email\")\n",
    "\n",
    "graph.add_edge(\"read_email\", \"classify_email\")\n",
    "\n",
    "graph.add_conditional_edges(\n",
    "    \"classify_email\",\n",
    "    route_email,\n",
    "    {\n",
    "        \"spam\": \"handle_spam\",\n",
    "        \"legitimate\": \"draft_response\"\n",
    "    }\n",
    ")\n",
    "graph.add_edge(\"handle_spam\", END)\n",
    "\n",
    "graph.add_edge(\"draft_response\", \"notify\")\n",
    "graph.add_edge(\"notify\", END)\n",
    "\n",
    "graph = graph.compile()\n",
    "graph"
   ]
  },
  {
   "cell_type": "code",
   "execution_count": 206,
   "metadata": {},
   "outputs": [],
   "source": [
    "legitimate_email = {\n",
    "    \"sender\": \"john.smith@example.com\",\n",
    "    \"subject\": \"Question about your services\",\n",
    "    \"body\": \"Dear Mr. Hugg, I was referred to you by a colleague and I'm interested in learning more about your consulting services. Could we schedule a call next week? Best regards, John Smith\"\n",
    "}\n",
    "\n",
    "# Example spam email\n",
    "spam_email = {\n",
    "    \"sender\": \"winner@lottery-intl.com\",\n",
    "    \"subject\": \"YOU HAVE WON $5,000,000!!!\",\n",
    "    \"body\": \"CONGRATULATIONS! You have been selected as the winner of our international lottery! To claim your $5,000,000 prize, please send us your bank details and a processing fee of $100.\"\n",
    "}"
   ]
  },
  {
   "cell_type": "code",
   "execution_count": 207,
   "metadata": {},
   "outputs": [],
   "source": [
    "legitimate_email_content = EmailContent(**legitimate_email)\n",
    "legitimate_email_state = EmailState(\n",
    "    email=legitimate_email_content,\n",
    "    email_category=None,\n",
    "    spam_reason=None,\n",
    "    is_spam=None,\n",
    "    email_draft=None,\n",
    ")\n",
    "\n",
    "\n",
    "spam_email_content = EmailContent(**spam_email)\n",
    "spam_email_state = EmailState(\n",
    "    email=spam_email_content,\n",
    "    email_category=None,\n",
    "    spam_reason=None,\n",
    "    \n",
    "    is_spam=None,\n",
    "    email_draft=None,\n",
    ")"
   ]
  },
  {
   "cell_type": "code",
   "execution_count": 208,
   "metadata": {},
   "outputs": [
    {
     "name": "stdout",
     "output_type": "stream",
     "text": [
      "Foodics' HR is processing an email from winner@lottery-intl.com with subject: YOU HAVE WON $5,000,000!!!\n",
      "Email category: spam\n",
      "email=EmailContent(subject='YOU HAVE WON $5,000,000!!!', sender='winner@lottery-intl.com', body='CONGRATULATIONS! You have been selected as the winner of our international lottery! To claim your $5,000,000 prize, please send us your bank details and a processing fee of $100.') email_category=None spam_reason=None is_spam=None email_draft=None messages=[]\n",
      "email is not spam\n",
      "IN notify\n",
      "\n",
      "==================================================\n",
      "Sir, you've received an email from winner@lottery-intl.com.\n",
      "Subject: YOU HAVE WON $5,000,000!!!\n",
      "Category: None\n",
      "\n",
      "I've prepared a draft response for your review:\n",
      "--------------------------------------------------\n",
      "None\n",
      "==================================================\n",
      "\n"
     ]
    },
    {
     "data": {
      "text/plain": [
       "{'email': EmailContent(subject='YOU HAVE WON $5,000,000!!!', sender='winner@lottery-intl.com', body='CONGRATULATIONS! You have been selected as the winner of our international lottery! To claim your $5,000,000 prize, please send us your bank details and a processing fee of $100.'),\n",
       " 'email_category': None,\n",
       " 'spam_reason': None,\n",
       " 'is_spam': None,\n",
       " 'email_draft': None,\n",
       " 'messages': []}"
      ]
     },
     "execution_count": 208,
     "metadata": {},
     "output_type": "execute_result"
    }
   ],
   "source": [
    "graph.invoke(spam_email_state)"
   ]
  },
  {
   "cell_type": "code",
   "execution_count": null,
   "metadata": {},
   "outputs": [],
   "source": []
  },
  {
   "cell_type": "code",
   "execution_count": null,
   "metadata": {},
   "outputs": [],
   "source": []
  },
  {
   "cell_type": "code",
   "execution_count": null,
   "metadata": {},
   "outputs": [],
   "source": []
  },
  {
   "cell_type": "code",
   "execution_count": 172,
   "metadata": {},
   "outputs": [],
   "source": [
    "from typing import Optional, List\n",
    "\n",
    "class EmailContent(BaseModel):\n",
    "    subject: str\n",
    "    sender: str\n",
    "    body: str\n",
    "\n",
    "class MessageContent(BaseModel):\n",
    "    role: str\n",
    "    content: str\n",
    "\n",
    "\n",
    "class EmailState(BaseModel):\n",
    "    email: EmailContent\n",
    "    email_category: Optional[str] = None\n",
    "    spam_reason: Optional[str] = None\n",
    "\n",
    "    is_spam: Optional[bool] = None\n",
    "    email_draft: Optional[str] = None\n",
    "    messages: List[MessageContent] = []"
   ]
  },
  {
   "cell_type": "code",
   "execution_count": null,
   "metadata": {},
   "outputs": [],
   "source": []
  },
  {
   "cell_type": "code",
   "execution_count": null,
   "metadata": {},
   "outputs": [],
   "source": []
  },
  {
   "cell_type": "code",
   "execution_count": null,
   "metadata": {},
   "outputs": [],
   "source": []
  },
  {
   "cell_type": "code",
   "execution_count": null,
   "metadata": {},
   "outputs": [],
   "source": []
  },
  {
   "cell_type": "code",
   "execution_count": null,
   "metadata": {},
   "outputs": [],
   "source": []
  },
  {
   "cell_type": "code",
   "execution_count": null,
   "metadata": {},
   "outputs": [],
   "source": []
  },
  {
   "cell_type": "code",
   "execution_count": null,
   "metadata": {},
   "outputs": [],
   "source": []
  },
  {
   "cell_type": "code",
   "execution_count": null,
   "metadata": {},
   "outputs": [],
   "source": []
  },
  {
   "cell_type": "code",
   "execution_count": null,
   "metadata": {},
   "outputs": [],
   "source": []
  },
  {
   "cell_type": "code",
   "execution_count": null,
   "metadata": {},
   "outputs": [],
   "source": []
  },
  {
   "cell_type": "code",
   "execution_count": null,
   "metadata": {},
   "outputs": [],
   "source": []
  },
  {
   "cell_type": "code",
   "execution_count": null,
   "metadata": {},
   "outputs": [],
   "source": []
  },
  {
   "cell_type": "code",
   "execution_count": null,
   "metadata": {},
   "outputs": [],
   "source": []
  },
  {
   "cell_type": "code",
   "execution_count": null,
   "metadata": {},
   "outputs": [],
   "source": []
  },
  {
   "cell_type": "code",
   "execution_count": null,
   "metadata": {},
   "outputs": [],
   "source": []
  },
  {
   "cell_type": "code",
   "execution_count": null,
   "metadata": {},
   "outputs": [],
   "source": []
  },
  {
   "cell_type": "code",
   "execution_count": null,
   "metadata": {},
   "outputs": [],
   "source": []
  },
  {
   "cell_type": "code",
   "execution_count": null,
   "metadata": {},
   "outputs": [],
   "source": []
  },
  {
   "cell_type": "code",
   "execution_count": null,
   "metadata": {},
   "outputs": [],
   "source": []
  },
  {
   "cell_type": "code",
   "execution_count": null,
   "metadata": {},
   "outputs": [],
   "source": []
  },
  {
   "cell_type": "code",
   "execution_count": null,
   "metadata": {},
   "outputs": [],
   "source": []
  },
  {
   "cell_type": "code",
   "execution_count": null,
   "metadata": {},
   "outputs": [],
   "source": []
  },
  {
   "cell_type": "code",
   "execution_count": null,
   "metadata": {},
   "outputs": [],
   "source": []
  },
  {
   "cell_type": "code",
   "execution_count": null,
   "metadata": {},
   "outputs": [],
   "source": []
  },
  {
   "cell_type": "code",
   "execution_count": null,
   "metadata": {},
   "outputs": [],
   "source": []
  },
  {
   "cell_type": "code",
   "execution_count": null,
   "metadata": {},
   "outputs": [],
   "source": []
  },
  {
   "cell_type": "code",
   "execution_count": null,
   "metadata": {},
   "outputs": [],
   "source": []
  },
  {
   "cell_type": "code",
   "execution_count": null,
   "metadata": {},
   "outputs": [],
   "source": []
  },
  {
   "cell_type": "code",
   "execution_count": null,
   "metadata": {},
   "outputs": [],
   "source": []
  },
  {
   "cell_type": "code",
   "execution_count": null,
   "metadata": {},
   "outputs": [],
   "source": []
  },
  {
   "cell_type": "code",
   "execution_count": null,
   "metadata": {},
   "outputs": [],
   "source": []
  },
  {
   "cell_type": "code",
   "execution_count": null,
   "metadata": {},
   "outputs": [],
   "source": []
  },
  {
   "cell_type": "code",
   "execution_count": null,
   "metadata": {},
   "outputs": [],
   "source": []
  },
  {
   "cell_type": "code",
   "execution_count": 160,
   "metadata": {},
   "outputs": [
    {
     "name": "stdout",
     "output_type": "stream",
     "text": [
      "{'name': 'Nik', 'age': 31, 'gender': 'male', 'books': ['Harry Potter', 'Lord of the Rings']}\n"
     ]
    }
   ],
   "source": [
    "import pprint\n",
    "\n",
    "sample_dict = {'name': 'Nik', 'age': 31, 'gender': 'male', 'books': ['Harry Potter', 'Lord of the Rings']}\n",
    "print(sample_dict)"
   ]
  },
  {
   "cell_type": "code",
   "execution_count": null,
   "metadata": {},
   "outputs": [],
   "source": []
  },
  {
   "cell_type": "code",
   "execution_count": null,
   "metadata": {},
   "outputs": [],
   "source": []
  },
  {
   "cell_type": "code",
   "execution_count": null,
   "metadata": {},
   "outputs": [],
   "source": []
  },
  {
   "cell_type": "code",
   "execution_count": null,
   "metadata": {},
   "outputs": [],
   "source": []
  },
  {
   "cell_type": "code",
   "execution_count": null,
   "metadata": {},
   "outputs": [],
   "source": []
  },
  {
   "cell_type": "code",
   "execution_count": null,
   "metadata": {},
   "outputs": [],
   "source": []
  },
  {
   "cell_type": "code",
   "execution_count": null,
   "metadata": {},
   "outputs": [],
   "source": [
    " "
   ]
  },
  {
   "cell_type": "code",
   "execution_count": null,
   "metadata": {},
   "outputs": [],
   "source": []
  },
  {
   "cell_type": "code",
   "execution_count": null,
   "metadata": {},
   "outputs": [],
   "source": []
  },
  {
   "cell_type": "code",
   "execution_count": null,
   "metadata": {},
   "outputs": [],
   "source": []
  },
  {
   "cell_type": "code",
   "execution_count": null,
   "metadata": {},
   "outputs": [],
   "source": []
  },
  {
   "cell_type": "code",
   "execution_count": null,
   "metadata": {},
   "outputs": [],
   "source": []
  },
  {
   "cell_type": "code",
   "execution_count": null,
   "metadata": {},
   "outputs": [],
   "source": []
  },
  {
   "cell_type": "code",
   "execution_count": null,
   "metadata": {},
   "outputs": [],
   "source": []
  },
  {
   "cell_type": "code",
   "execution_count": null,
   "metadata": {},
   "outputs": [],
   "source": []
  },
  {
   "cell_type": "code",
   "execution_count": null,
   "metadata": {},
   "outputs": [],
   "source": []
  },
  {
   "cell_type": "code",
   "execution_count": null,
   "metadata": {},
   "outputs": [],
   "source": []
  },
  {
   "cell_type": "code",
   "execution_count": null,
   "metadata": {},
   "outputs": [],
   "source": []
  },
  {
   "cell_type": "code",
   "execution_count": null,
   "metadata": {},
   "outputs": [],
   "source": []
  },
  {
   "cell_type": "code",
   "execution_count": null,
   "metadata": {},
   "outputs": [],
   "source": []
  },
  {
   "cell_type": "code",
   "execution_count": null,
   "metadata": {},
   "outputs": [],
   "source": []
  }
 ],
 "metadata": {
  "kernelspec": {
   "display_name": "llms",
   "language": "python",
   "name": "python3"
  },
  "language_info": {
   "codemirror_mode": {
    "name": "ipython",
    "version": 3
   },
   "file_extension": ".py",
   "mimetype": "text/x-python",
   "name": "python",
   "nbconvert_exporter": "python",
   "pygments_lexer": "ipython3",
   "version": "3.10.16"
  }
 },
 "nbformat": 4,
 "nbformat_minor": 2
}
